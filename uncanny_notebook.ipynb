{
 "cells": [
  {
   "cell_type": "code",
   "execution_count": 3,
   "metadata": {
    "kernel": "Calysto Bash"
   },
   "outputs": [
    {
     "name": "stdout",
     "output_type": "stream",
     "text": [
      "uncanny_notebook.ipynb  Untitled.ipynb  \u001b[0m\u001b[01;34mwork\u001b[0m\n",
      "\n"
     ]
    }
   ],
   "source": [
    "ls /home/jovyan/"
   ]
  },
  {
   "cell_type": "markdown",
   "metadata": {
    "kernel": "Calysto Bash"
   },
   "source": [
    "### Todo\n",
    "* check with phd-data dir and conf paper for up to date ness"
   ]
  },
  {
   "cell_type": "markdown",
   "metadata": {
    "kernel": "Calysto Bash"
   },
   "source": [
    "# License Evaluation Contract Representation"
   ]
  },
  {
   "cell_type": "markdown",
   "metadata": {
    "kernel": "Calysto Bash"
   },
   "source": [
    "In the following notebook the examples of my thesis are accumulated in such a state as to make "
   ]
  },
  {
   "cell_type": "markdown",
   "metadata": {
    "kernel": "Calysto Bash"
   },
   "source": [
    "### Natural legal language example (abbreviated)"
   ]
  },
  {
   "cell_type": "markdown",
   "metadata": {
    "kernel": "Calysto Bash"
   },
   "source": [
    "Example:\n",
    "\n",
    "This license is an example evaluation license.\n",
    "\n",
    "LICENSEE - The University.  \n",
    "SUBLICENSEE - A student as set force in the appendix. (array of persons)  \n",
    "ARBITER - An arbiter or oracle that decides incase of disputes.  Can be a natural or legal person or a machine. \n",
    "Art.  2, 3 and 4 especially areevaluated by the arbiter in case of disputes.  \n",
    "ASSET X - An asset to be licensed.  \n",
    "\n",
    "* Article 1. The  Licensor  grants  the  Licensee  a  license  to use  and  evaluate  asset  X  and  grant  sublicensesamong  group  Y,  for  use  and  evaluation.  \n",
    "This grant is in exchange for a licensing fee.\n",
    "* Article 2. (optional) The (Sub)Licensee is commissioned to publish  comments  about  the  use  of  the  product.  \n",
    "This allows publication of comments but also re-quires them.\n",
    "* Article 3. The (Sub)Licensee must not publish comments ofthe use and evaluation of the Product without theapproval  of  the  Licensor;  \n",
    "the  approval must  beobtained before the publication. If the Licensee publishes results of the evaluation of the Product without approval from the Licensor, the Licensee has 24 h to remove the material.\n",
    "* Article 4. This license terminates automatically if  the  (Sub)Licensee  breaches  this  Agreement. Breach obliges the licensee to pay a fee to Licensor for Breach of the Licensing Terms."
   ]
  },
  {
   "cell_type": "markdown",
   "metadata": {
    "kernel": "Calysto Bash"
   },
   "source": [
    "## Soldity"
   ]
  },
  {
   "cell_type": "markdown",
   "metadata": {
    "kernel": "Calysto Bash"
   },
   "source": [
    "Soliditiy can be compiled, but for testing its functions, it would have to be copied into remix ide. Also it should be noted that for abbrevation purposes, this contract is not necessarily secure or complete from a usability point of view, such as convenience functions and similar might be missing. This is due to the fact that it would otherwise be too long for publication."
   ]
  },
  {
   "cell_type": "markdown",
   "metadata": {
    "kernel": "Calysto Bash"
   },
   "source": [
    "pragma solidity ^0.6.7;\n",
    "pragma experimental ABIEncoderV2;\n",
    "import \"github.com/OpenZeppelin/openzeppelin-contracts/contracts/utils/EnumerableMap.sol\";\n",
    "\n",
    "contract LicenseContract {\n",
    "    //using EnumerableMap for EnumerableMap.UintToAddressMap;\n",
    "    bytes32 work_hash; string name;\n",
    "    address payable licensor;\n",
    "    address licensee;\t\n",
    "    //  EnumerableMap.UintToAddressMap sublicensees;\n",
    "    address payable arbiter;\n",
    "    bool breachFeePaid;\n",
    "    \n",
    "event Status(LicenseProps);\n",
    "    \n",
    "struct LicenseProps {\n",
    "    int id;\n",
    "    int licenseFee;\n",
    "    uint breachFee;\n",
    "    bool isCommissioned;\n",
    "    bool publicationIsApproved;\n",
    "    bool requiresComments;\n",
    "    uint timeToRemove;\n",
    "    bool triggeredTimeToRemove;\n",
    "    bool licenseBreached;}\n",
    "\n",
    "mapping (uint => LicenseProps) licenses;\n",
    "uint[] public licensesList;\n",
    "uint numLicenses;\n",
    "//EnumerableMap.UintToAddressMap memory _sublicensees,\n",
    "modifier onlyBy(address _account)\n",
    "    {require(msg.sender == _account,\n",
    "          \"Sender not authorized.\");\n",
    "        _;}\n",
    "\n",
    "function newLicense(int _id, int _licenseFee, uint _breachFee, bool _isCommissioned, bool _publicationIsApproved, bool _requiresComments, uint _timeToRemove, bool _triggeredTimeToRemove, bool _licenseBreached) public returns (uint licenseID) {\n",
    "        licenses[licenseID] = LicenseProps(_id, _licenseFee, _breachFee, _isCommissioned, _publicationIsApproved, _requiresComments, _timeToRemove, _triggeredTimeToRemove, _licenseBreached);\n",
    "        licenseID = numLicenses++;\n",
    "        // sublicensees = _sublicensees;\n",
    "        return licenseID; }\n",
    "\n",
    "function commissionComments(uint _licenseID) public {\n",
    "    LicenseProps storage l = licenses[_licenseID];\n",
    "    l.publicationIsApproved = true;\n",
    "    l.requiresComments = true;\n",
    "\tl.isCommissioned = true; }\n",
    "\n",
    "function grantApproval(uint _licenseID) public {\n",
    "    LicenseProps storage l = licenses[_licenseID];\n",
    "    l.publicationIsApproved = true; }\n",
    "\n",
    "function evalPublication(uint _licenseID, bool isPublished) public {\n",
    "    LicenseProps storage l = licenses[_licenseID];\n",
    "    if (isPublished) {\n",
    "        if ((isPublished && !l.isCommissioned || !l.publicationIsApproved) && !l.triggeredTimeToRemove) {\n",
    "            l.timeToRemove = now;\n",
    "            l.triggeredTimeToRemove = true;\n",
    "        } else if (l.triggeredTimeToRemove && now > l.timeToRemove + 1 days ) {\n",
    "            declareBreach(_licenseID);\n",
    "        }    }\n",
    "    emit Status(l); }\n",
    "\n",
    "function declareRemoved(uint _licenseID) public onlyBy(arbiter) {\n",
    "    LicenseProps storage l = licenses[_licenseID];\n",
    "    l.timeToRemove = 0;\n",
    "    l.triggeredTimeToRemove = false;\n",
    "}\n",
    "\n",
    "function declareBreach(uint _licenseID) public onlyBy(arbiter) {\n",
    "    LicenseProps storage l = licenses[_licenseID];\n",
    "\tl.licenseBreached = true;\n",
    "\tif (!breachFeePaid) {\n",
    "\t    breachFeePaid = false;\n",
    "\t    licensor.transfer(l.breachFee);\n",
    "\t    }     } }\n"
   ]
  },
  {
   "cell_type": "code",
   "execution_count": 32,
   "metadata": {
    "kernel": "Calysto Bash"
   },
   "outputs": [
    {
     "name": "stdout",
     "output_type": "stream",
     "text": [
      "find: ‘/etc/ssl/private’: Permission denied\n",
      "find: ‘/proc/tty/driver’: Permission denied\n",
      "find: ‘/var/cache/apt/archives/partial’: Permission denied\n",
      "find: ‘/var/cache/ldconfig’: Permission denied\n",
      "find: ‘/root’: Permission denied\n",
      "\n"
     ]
    }
   ],
   "source": [
    "find / -iname solc"
   ]
  },
  {
   "cell_type": "markdown",
   "metadata": {
    "kernel": "Calysto Bash"
   },
   "source": [
    "## ACE / Attempto"
   ]
  },
  {
   "cell_type": "code",
   "execution_count": 5,
   "metadata": {
    "kernel": "Calysto Bash"
   },
   "outputs": [
    {
     "name": "stdout",
     "output_type": "stream",
     "text": [
      "\n"
     ]
    }
   ],
   "source": [
    "export ACETEXTPROLOG=\"An arbiter is a person.\\\n",
    "A n:licensor is a person.\\\n",
    "A licensee is a person.\\\n",
    "A n:sublicensee is a person. \\\n",
    "A n:licensor commissions a licensee. \\\n",
    "A n:duration-to-remove-comments is 24 hours. \\\n",
    "A n:license-fee is an amount. \\\n",
    "If there is a n:licensor and there is a licensee then a n:license-fee is required. \\\n",
    "If the n:license-fee is paid then the licensee receives a license. \\\n",
    "If there is a license then the licensee can v:sublicense. \\\n",
    "If there is a license then the licensee can comment. \\\n",
    "If the licensee may comment then the n:licensor may approve. \\\n",
    "If a n:licensor commissions the licensee then a licensee has to comment. \\\n",
    "If the n:licensor does not approve then the licensee may not comment. \\\n",
    "If the licensee may not publish then the comments have to be removed within 24 hours. \\\n",
    "If the comments have to be removed and are not removed within 24 hours then the license is breached. \\\n",
    "If the license is breached then a n:breach-fee has to be paid.\""
   ]
  },
  {
   "cell_type": "code",
   "execution_count": 6,
   "metadata": {
    "kernel": "Calysto Bash"
   },
   "outputs": [
    {
     "name": "stdout",
     "output_type": "stream",
     "text": [
      "An arbiter is a person.A n:licensor is a person.A licensee is a person.A n:sublicensee is a person. A n:licensor commissions a licensee. A n:duration-to-remove-comments is 24 hours. A n:license-fee is an amount. If there is a n:licensor and there is a licensee then a n:license-fee is required. If the n:license-fee is paid then the licensee receives a license. If there is a license then the licensee can v:sublicense. If there is a license then the licensee can comment. If the licensee may comment then the n:licensor may approve. If a n:licensor commissions the licensee then a licensee has to comment. If the n:licensor does not approve then the licensee may not comment. If the licensee may not publish then the comments have to be removed within 24 hours. If the comments have to be removed and are not removed within 24 hours then the license is breached. If the license is breached then a n:breach-fee has to be paid.\n",
      "\n"
     ]
    }
   ],
   "source": [
    "echo $ACETEXTPROLOG"
   ]
  },
  {
   "cell_type": "code",
   "execution_count": 13,
   "metadata": {
    "kernel": "Calysto Bash"
   },
   "outputs": [
    {
     "name": "stdout",
     "output_type": "stream",
     "text": [
      "\n"
     ]
    }
   ],
   "source": [
    "acetext=$(<ace.txt)"
   ]
  },
  {
   "cell_type": "code",
   "execution_count": 16,
   "metadata": {
    "kernel": "Calysto Bash"
   },
   "outputs": [
    {
     "name": "stdout",
     "output_type": "stream",
     "text": [
      "cat: 'An arbiter is a person.'$'\\n''A n:licensor is a person.'$'\\n''A licensee is a person.'$'\\n''A n:sublicensee is a person.'$'\\n''A n:licensor commissions a licensee.'$'\\n''A n:duration-to-remove-comments is 24 hours.'$'\\n''A n:license-fee is an amount.'$'\\n''/* next part for similarity to prolog */'$'\\n''/* If to be an offer by the n:licensor. */'$'\\n''If there is a n:licensor and there is a licensee then a n:license-fee is required.'$'\\n''If the n:license-fee is paid then the licensee receives a license.'$'\\n''If there is a license then the licensee can v:sublicense'$'\\n''/* gives licenses omitted */'$'\\n''If there is a license then the licensee can comment.'$'\\n''If the licensee may comment then the n:licensor may approve.'$'\\n''If a n:licensor commissions the licensee then a licensee has to comment.'$'\\n''If the n:licensor does not approve then the licensee may not comment.'$'\\n''If the licensee may not publish then the comments have to be removed within 24 hours.'$'\\n''If the comments have to be removed and are not removed within 24 hours then the license is breached.'$'\\n''If the license is breached then a n:breach-fee has to be paid.': No such file or directory\n",
      "\n"
     ]
    }
   ],
   "source": [
    "cat \"$acetext\""
   ]
  },
  {
   "cell_type": "markdown",
   "metadata": {
    "kernel": "Calysto Bash"
   },
   "source": [
    "Below is an exexcution of the ACE example, with the Ace Parsing Enginge (APE). It is currently read from a file and not from a notebook cell, but the file can be modified and also output of ape changed to other formats. < Link to APE options >"
   ]
  },
  {
   "cell_type": "code",
   "execution_count": 24,
   "metadata": {
    "kernel": "Calysto Bash"
   },
   "outputs": [
    {
     "name": "stdout",
     "output_type": "stream",
     "text": [
      "[[^,'An',arbiter,is,a,person,'.'],[^,'A',n,:,licensor,is,a,person,'.'],[^,'A',licensee,is,a,person,'.'],[^,'A',n,:,sublicensee,is,a,person,'.'],[^,'A',n,:,licensor,commissions,a,licensee,'.'],[^,'A',n,:,'duration-to-remove-comments',is,24,hours,'.'],[^,'A',n,:,'license-fee',is,an,amount,'.'],[^,'If',there,is,a,n,:,licensor,and,there,is,a,licensee,then,a,n,:,'license-fee',is,required,'.'],[^,'If',the,n,:,'license-fee',is,paid,then,the,licensee,receives,a,license,'.'],[^,'If',there,is,a,license,then,the,licensee,can,v,:,sublicense,'.'],[^,'If',there,is,a,license,then,the,licensee,can,comment,'.'],[^,'If',the,licensee,may,comment,then,the,n,:,licensor,may,approve,'.'],[^,'If',a,n,:,licensor,commissions,the,licensee,then,a,licensee,has,to,comment,'.'],[^,'If',the,n,:,licensor,does,not,approve,then,the,licensee,may,not,comment,'.'],[^,'If',the,licensee,may,not,publish,then,the,comments,have,to,be,removed,within,24,hours,'.'],[^,'If',the,comments,have,to,be,removed,and,are,not,removed,within,24,hours,then,the,license,is,breached,'.'],[^,'If',the,license,is,breached,then,a,n,:,'breach-fee',has,to,be,paid,'.']]\n",
      "\n"
     ]
    }
   ],
   "source": [
    "/home/jovyan/bin/ape.bin -file ace.txt -solo tokens"
   ]
  },
  {
   "cell_type": "code",
   "execution_count": 26,
   "metadata": {
    "kernel": "Calysto Bash"
   },
   "outputs": [
    {
     "name": "stdout",
     "output_type": "stream",
     "text": [
      "There is an arbiter X1.\n",
      "The arbiter X1 is a person.\n",
      "\n",
      "There is a n:licensor X1.\n",
      "The n:licensor X1 is a person.\n",
      "\n",
      "There is a licensee X1.\n",
      "The licensee X1 is a person.\n",
      "\n",
      "There is a n:sublicensee X1.\n",
      "The n:sublicensee X1 is a person.\n",
      "\n",
      "There is a n:licensor X1.\n",
      "The n:licensor X1 commissions a licensee X2.\n",
      "There is a n:license-fee X3.\n",
      "The n:license-fee X3 is an amount.\n",
      "If the n:license-fee X3 is paid then the licensee X2 receives a license.\n",
      "If there is a license then it is possible that the licensee X2 v:sublicense .\n",
      "If there is a license then it is possible that the licensee X2 comments.\n",
      "If it is admissible that the licensee X2 comments then it is admissible that the n:licensor X1 approves.\n",
      "If a n:licensor commissions the licensee X2 then there is a licensee X4 and it is necessary that the licensee X4 comments.\n",
      "If it is false that the n:licensor X1 approves then it is false that it is admissible that the licensee X2 comments.\n",
      "If it is false that it is admissible that the licensee X2 publishes then there are at least 2 comments X5 and it is necessary that the comments X5 are removed within 24 hours.\n",
      "\n",
      "There is a n:duration-to-remove-comments X1.\n",
      "The n:duration-to-remove-comments X1 is 24 hours.\n",
      "\n",
      "If there is a n:licensor and there is a licensee then a n:license-fee is required.\n",
      "\n",
      "If there are at least 2 comments X1 and it is false that the comments X1 are removed within 24 hours and it is necessary that the comments X1 are removed then a license is breached.\n",
      "\n",
      "If a license is breached then there is a n:breach-fee X1 and it is necessary that the n:breach-fee X1 is paid.\n",
      "\n"
     ]
    }
   ],
   "source": [
    "/home/jovyan/bin/ape.bin -file ace.txt -solo paraphrase"
   ]
  },
  {
   "cell_type": "markdown",
   "metadata": {
    "kernel": "Calysto Bash"
   },
   "source": [
    "## Logic-based / Prolog"
   ]
  },
  {
   "cell_type": "code",
   "execution_count": 19,
   "metadata": {
    "kernel": "SWI-Prolog"
   },
   "outputs": [
    {
     "name": "stdout",
     "output_type": "stream",
     "text": []
    }
   ],
   "source": [
    "person(adam).\n",
    "person(eve).\n",
    "person(antony).\n",
    "person(ruth).\n",
    "person(lisa).\n",
    "\n",
    " % add Licensee?\n",
    "publish(time, 24).\n",
    "\n",
    "% Variables start with Uppercase!!!\n",
    "% Art 1 - Add sth about publishing to Art 1?\n",
    "\n",
    "made_offer(adam,eve).\n",
    "accepts_offer(eve, adam).\n",
    "paid_fee(eve, adam).\n",
    "approves_comments(adam, eve).\n",
    "commissions(adam,eve).\n",
    "\n",
    "licensor(X):-\n",
    "\tlicenses(X, Y).\n",
    "\n",
    "licensee(Y):-\n",
    "\tlicenses(X, Y).\n",
    "\n",
    "licenses(X, Y) :-\n",
    "\tperson(X), \n",
    "\tperson(Y),\n",
    "\tmade_offer(X, Y),\n",
    "\taccepts_offer(Y, X),\n",
    "\tpaid_fee(Y, X).\n",
    "\n",
    "may_publish(Y) :-\n",
    "licenses(X, Y),\n",
    "\tapproves_comments(X,Y).\n",
    "\n",
    "% Art 2\n",
    "must_publish(Y) :-\n",
    "licenses(X, Y),\n",
    "\tapproves_comments(X,Y),\n",
    "commissions(X,Y).\n",
    "\n",
    "%Art 3\n",
    "forbidden_publish(Y):-\n",
    "\tnot(approves_comments(X, Y)).\n",
    "\n",
    "must_remove_comments(Y,T):-\n",
    "\tlicense(X, Y),\n",
    "\trequested_removal(X,Y, T).\n",
    "\n",
    "punisheable(Y, T1):-\n",
    "\tmust_remove_comments(Y, T),\n",
    "\tT1 is T+24.\n"
   ]
  },
  {
   "cell_type": "code",
   "execution_count": 20,
   "metadata": {
    "kernel": "SWI-Prolog"
   },
   "outputs": [
    {
     "name": "stdout",
     "output_type": "stream",
     "text": [
      "true."
     ]
    }
   ],
   "source": [
    "?- must_publish(eve)."
   ]
  },
  {
   "cell_type": "markdown",
   "metadata": {
    "kernel": "SWI-Prolog"
   },
   "source": [
    "## Lexon"
   ]
  },
  {
   "cell_type": "markdown",
   "metadata": {
    "kernel": "SWI-Prolog"
   },
   "source": [
    "LEX: Evaluation License System.\n",
    "LEXON: 0.2.12\n",
    "PREAMBLE: This is a licensing contract for a software evaluation.\n",
    " \n",
    "TERMS:\n",
    "\n",
    "\"Licensor\" is [ a person ].\n",
    "\"Arbiter\" is [ a person ].\n",
    "\n",
    "\"License\" is this contract.\n",
    "\n",
    "\"Licensing Fee\" is [ an amount ].\n",
    "\"Breach Fee\" is [ an amount ].\n",
    "\n",
    "The Licensor appoints the Arbiter,\n",
    "fixes the Licensing Fee,\n",
    "and fixes the Breach Fee.\n",
    "\n",
    "CONTRACTS per Licensee:\n",
    "\n",
    "\"Description of Goods\" is [ a text ].\n",
    "\"Licensee\" is [ a person ].\n",
    "\"Paid\" is [ a binary ].\n",
    "\"Commissioned\" is [ a binary ].\n",
    "\"Comment Text\" is [ a text ].\n",
    "\"Published\" is [ a binary ].\n",
    "\"Permission to Comment\" is [ a binary ].\n",
    "\n",
    "The Licensor fixes the Description of Goods.\n",
    "\n",
    "CLAUSE: Pay.\n",
    "The Licensee pays the Licensing Fee to the Licensor,\n",
    "and the Breach Fee into escrow.\n",
    "The License is therefore Paid.\n",
    " \n",
    "CLAUSE: Commission.\n",
    "The Licensor may certify this License as Commissioned.\n",
    "\n",
    "CLAUSE: Comment.\n",
    "The Licensee may register a Comment Text.\n",
    "\n",
    "CLAUSE: Publication.\n",
    "The Licensee may certify the License as Published.\n",
    "\n",
    "CLAUSE: Grant Permission to Comment.\n",
    "The Licensee may grant the Permission to Comment.\n",
    "\n",
    "CLAUSE: Examine for Breach.\n",
    "The Arbiter may Declare Breach, if:\n",
    "the License is Commissioned and no Comment Text is set;\n",
    "or the License is Published and there is no Permission to Comment.\n",
    "\n",
    "CLAUSE: Declare Breach.\n",
    "The Arbiter may pay the Breach Fee to the Licensor, \n",
    "and afterwards terminate this License.\n"
   ]
  },
  {
   "cell_type": "code",
   "execution_count": 34,
   "metadata": {
    "kernel": "Calysto Bash"
   },
   "outputs": [
    {
     "name": "stdout",
     "output_type": "stream",
     "text": [
      "bash: ./lexon: No such file or directory\n",
      "\n"
     ]
    }
   ],
   "source": [
    "./lexon"
   ]
  },
  {
   "cell_type": "code",
   "execution_count": null,
   "metadata": {
    "kernel": "Calysto Bash"
   },
   "outputs": [],
   "source": [
    "lexon v2 vs lexon v3"
   ]
  }
 ],
 "metadata": {
  "kernelspec": {
   "display_name": "SoS",
   "language": "sos",
   "name": "sos"
  },
  "language_info": {
   "codemirror_mode": "sos",
   "file_extension": ".sos",
   "mimetype": "text/x-sos",
   "name": "sos",
   "nbconvert_exporter": "sos_notebook.converter.SoS_Exporter",
   "pygments_lexer": "sos"
  },
  "sos": {
   "kernels": [
    [
     "Calysto Bash",
     "calysto_bash",
     "bash",
     "",
     ""
    ],
    [
     "SWI-Prolog",
     "jswipl",
     "",
     "",
     ""
    ]
   ],
   "version": "0.21.21"
  }
 },
 "nbformat": 4,
 "nbformat_minor": 4
}
